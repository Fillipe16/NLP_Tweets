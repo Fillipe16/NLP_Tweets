{
 "cells": [
  {
   "cell_type": "code",
   "execution_count": 1,
   "id": "c4bbaef3",
   "metadata": {
    "_cell_guid": "b1076dfc-b9ad-4769-8c92-a6c4dae69d19",
    "_uuid": "8f2839f25d086af736a60e9eeb907d3b93b6e0e5",
    "execution": {
     "iopub.execute_input": "2023-01-07T23:43:03.131644Z",
     "iopub.status.busy": "2023-01-07T23:43:03.130724Z",
     "iopub.status.idle": "2023-01-07T23:43:06.368715Z",
     "shell.execute_reply": "2023-01-07T23:43:06.367292Z"
    },
    "papermill": {
     "duration": 3.249617,
     "end_time": "2023-01-07T23:43:06.372130",
     "exception": false,
     "start_time": "2023-01-07T23:43:03.122513",
     "status": "completed"
    },
    "tags": []
   },
   "outputs": [
    {
     "name": "stdout",
     "output_type": "stream",
     "text": [
      "/kaggle/input/twitter-tweets-sentiment-dataset/Tweets.csv\n"
     ]
    }
   ],
   "source": [
    "# This Python 3 environment comes with many helpful analytics libraries installed\n",
    "# It is defined by the kaggle/python Docker image: https://github.com/kaggle/docker-python\n",
    "# For example, here's several helpful packages to load\n",
    "\n",
    "import numpy as np # linear algebra\n",
    "import pandas as pd # data processing, CSV file I/O (e.g. pd.read_csv)\n",
    "\n",
    "import matplotlib.pyplot as plt\n",
    "import seaborn as sns\n",
    "import plotly.express as px\n",
    "\n",
    "import re\n",
    "from nltk.corpus import stopwords\n",
    "# Input data files are available in the read-only \"../input/\" directory\n",
    "# For example, running this (by clicking run or pressing Shift+Enter) will list all files under the input directory\n",
    "\n",
    "import os\n",
    "for dirname, _, filenames in os.walk('/kaggle/input'):\n",
    "    for filename in filenames:\n",
    "        print(os.path.join(dirname, filename))\n",
    "\n",
    "# You can write up to 20GB to the current directory (/kaggle/working/) that gets preserved as output when you create a version using \"Save & Run All\" \n",
    "# You can also write temporary files to /kaggle/temp/, but they won't be saved outside of the current session"
   ]
  },
  {
   "cell_type": "markdown",
   "id": "59afefd5",
   "metadata": {
    "papermill": {
     "duration": 0.004508,
     "end_time": "2023-01-07T23:43:06.382068",
     "exception": false,
     "start_time": "2023-01-07T23:43:06.377560",
     "status": "completed"
    },
    "tags": []
   },
   "source": [
    "# 1-) Leitura dos Dados"
   ]
  },
  {
   "cell_type": "code",
   "execution_count": 2,
   "id": "8dbc9a3d",
   "metadata": {
    "execution": {
     "iopub.execute_input": "2023-01-07T23:43:06.393669Z",
     "iopub.status.busy": "2023-01-07T23:43:06.393252Z",
     "iopub.status.idle": "2023-01-07T23:43:06.561753Z",
     "shell.execute_reply": "2023-01-07T23:43:06.560565Z"
    },
    "papermill": {
     "duration": 0.177312,
     "end_time": "2023-01-07T23:43:06.564239",
     "exception": false,
     "start_time": "2023-01-07T23:43:06.386927",
     "status": "completed"
    },
    "tags": []
   },
   "outputs": [
    {
     "data": {
      "text/html": [
       "<div>\n",
       "<style scoped>\n",
       "    .dataframe tbody tr th:only-of-type {\n",
       "        vertical-align: middle;\n",
       "    }\n",
       "\n",
       "    .dataframe tbody tr th {\n",
       "        vertical-align: top;\n",
       "    }\n",
       "\n",
       "    .dataframe thead th {\n",
       "        text-align: right;\n",
       "    }\n",
       "</style>\n",
       "<table border=\"1\" class=\"dataframe\">\n",
       "  <thead>\n",
       "    <tr style=\"text-align: right;\">\n",
       "      <th></th>\n",
       "      <th>textID</th>\n",
       "      <th>text</th>\n",
       "      <th>selected_text</th>\n",
       "      <th>sentiment</th>\n",
       "    </tr>\n",
       "  </thead>\n",
       "  <tbody>\n",
       "    <tr>\n",
       "      <th>0</th>\n",
       "      <td>cb774db0d1</td>\n",
       "      <td>I`d have responded, if I were going</td>\n",
       "      <td>I`d have responded, if I were going</td>\n",
       "      <td>neutral</td>\n",
       "    </tr>\n",
       "    <tr>\n",
       "      <th>1</th>\n",
       "      <td>549e992a42</td>\n",
       "      <td>Sooo SAD I will miss you here in San Diego!!!</td>\n",
       "      <td>Sooo SAD</td>\n",
       "      <td>negative</td>\n",
       "    </tr>\n",
       "    <tr>\n",
       "      <th>2</th>\n",
       "      <td>088c60f138</td>\n",
       "      <td>my boss is bullying me...</td>\n",
       "      <td>bullying me</td>\n",
       "      <td>negative</td>\n",
       "    </tr>\n",
       "    <tr>\n",
       "      <th>3</th>\n",
       "      <td>9642c003ef</td>\n",
       "      <td>what interview! leave me alone</td>\n",
       "      <td>leave me alone</td>\n",
       "      <td>negative</td>\n",
       "    </tr>\n",
       "    <tr>\n",
       "      <th>4</th>\n",
       "      <td>358bd9e861</td>\n",
       "      <td>Sons of ****, why couldn`t they put them on t...</td>\n",
       "      <td>Sons of ****,</td>\n",
       "      <td>negative</td>\n",
       "    </tr>\n",
       "  </tbody>\n",
       "</table>\n",
       "</div>"
      ],
      "text/plain": [
       "       textID                                               text  \\\n",
       "0  cb774db0d1                I`d have responded, if I were going   \n",
       "1  549e992a42      Sooo SAD I will miss you here in San Diego!!!   \n",
       "2  088c60f138                          my boss is bullying me...   \n",
       "3  9642c003ef                     what interview! leave me alone   \n",
       "4  358bd9e861   Sons of ****, why couldn`t they put them on t...   \n",
       "\n",
       "                         selected_text sentiment  \n",
       "0  I`d have responded, if I were going   neutral  \n",
       "1                             Sooo SAD  negative  \n",
       "2                          bullying me  negative  \n",
       "3                       leave me alone  negative  \n",
       "4                        Sons of ****,  negative  "
      ]
     },
     "execution_count": 2,
     "metadata": {},
     "output_type": "execute_result"
    }
   ],
   "source": [
    "tweets_df = pd.read_csv(\"/kaggle/input/twitter-tweets-sentiment-dataset/Tweets.csv\")\n",
    "tweets_df.head()"
   ]
  },
  {
   "cell_type": "code",
   "execution_count": 3,
   "id": "ae0ddf6c",
   "metadata": {
    "execution": {
     "iopub.execute_input": "2023-01-07T23:43:06.577296Z",
     "iopub.status.busy": "2023-01-07T23:43:06.575941Z",
     "iopub.status.idle": "2023-01-07T23:43:06.611360Z",
     "shell.execute_reply": "2023-01-07T23:43:06.609804Z"
    },
    "papermill": {
     "duration": 0.044327,
     "end_time": "2023-01-07T23:43:06.613921",
     "exception": false,
     "start_time": "2023-01-07T23:43:06.569594",
     "status": "completed"
    },
    "tags": []
   },
   "outputs": [
    {
     "name": "stdout",
     "output_type": "stream",
     "text": [
      "<class 'pandas.core.frame.DataFrame'>\n",
      "RangeIndex: 27481 entries, 0 to 27480\n",
      "Data columns (total 4 columns):\n",
      " #   Column         Non-Null Count  Dtype \n",
      "---  ------         --------------  ----- \n",
      " 0   textID         27481 non-null  object\n",
      " 1   text           27480 non-null  object\n",
      " 2   selected_text  27480 non-null  object\n",
      " 3   sentiment      27481 non-null  object\n",
      "dtypes: object(4)\n",
      "memory usage: 858.9+ KB\n"
     ]
    }
   ],
   "source": [
    "tweets_df.info()"
   ]
  },
  {
   "cell_type": "markdown",
   "id": "8ae3dd69",
   "metadata": {
    "papermill": {
     "duration": 0.004914,
     "end_time": "2023-01-07T23:43:06.624211",
     "exception": false,
     "start_time": "2023-01-07T23:43:06.619297",
     "status": "completed"
    },
    "tags": []
   },
   "source": [
    "# 2-) Preprocessing"
   ]
  },
  {
   "cell_type": "code",
   "execution_count": 4,
   "id": "5311ca67",
   "metadata": {
    "execution": {
     "iopub.execute_input": "2023-01-07T23:43:06.636566Z",
     "iopub.status.busy": "2023-01-07T23:43:06.636126Z",
     "iopub.status.idle": "2023-01-07T23:43:06.675141Z",
     "shell.execute_reply": "2023-01-07T23:43:06.673854Z"
    },
    "papermill": {
     "duration": 0.048231,
     "end_time": "2023-01-07T23:43:06.677672",
     "exception": false,
     "start_time": "2023-01-07T23:43:06.629441",
     "status": "completed"
    },
    "tags": []
   },
   "outputs": [
    {
     "data": {
      "text/html": [
       "<div>\n",
       "<style scoped>\n",
       "    .dataframe tbody tr th:only-of-type {\n",
       "        vertical-align: middle;\n",
       "    }\n",
       "\n",
       "    .dataframe tbody tr th {\n",
       "        vertical-align: top;\n",
       "    }\n",
       "\n",
       "    .dataframe thead th {\n",
       "        text-align: right;\n",
       "    }\n",
       "</style>\n",
       "<table border=\"1\" class=\"dataframe\">\n",
       "  <thead>\n",
       "    <tr style=\"text-align: right;\">\n",
       "      <th></th>\n",
       "      <th>textID</th>\n",
       "      <th>text</th>\n",
       "      <th>selected_text</th>\n",
       "      <th>sentiment</th>\n",
       "    </tr>\n",
       "  </thead>\n",
       "  <tbody>\n",
       "    <tr>\n",
       "      <th>0</th>\n",
       "      <td>cb774db0d1</td>\n",
       "      <td>i`d have responded, if i were going</td>\n",
       "      <td>i`d have responded, if i were going</td>\n",
       "      <td>neutral</td>\n",
       "    </tr>\n",
       "    <tr>\n",
       "      <th>1</th>\n",
       "      <td>549e992a42</td>\n",
       "      <td>sooo sad i will miss you here in san diego!!!</td>\n",
       "      <td>sooo sad</td>\n",
       "      <td>negative</td>\n",
       "    </tr>\n",
       "    <tr>\n",
       "      <th>2</th>\n",
       "      <td>088c60f138</td>\n",
       "      <td>my boss is bullying me...</td>\n",
       "      <td>bullying me</td>\n",
       "      <td>negative</td>\n",
       "    </tr>\n",
       "    <tr>\n",
       "      <th>3</th>\n",
       "      <td>9642c003ef</td>\n",
       "      <td>what interview! leave me alone</td>\n",
       "      <td>leave me alone</td>\n",
       "      <td>negative</td>\n",
       "    </tr>\n",
       "    <tr>\n",
       "      <th>4</th>\n",
       "      <td>358bd9e861</td>\n",
       "      <td>sons of ****, why couldn`t they put them on t...</td>\n",
       "      <td>sons of ****,</td>\n",
       "      <td>negative</td>\n",
       "    </tr>\n",
       "  </tbody>\n",
       "</table>\n",
       "</div>"
      ],
      "text/plain": [
       "       textID                                               text  \\\n",
       "0  cb774db0d1                i`d have responded, if i were going   \n",
       "1  549e992a42      sooo sad i will miss you here in san diego!!!   \n",
       "2  088c60f138                          my boss is bullying me...   \n",
       "3  9642c003ef                     what interview! leave me alone   \n",
       "4  358bd9e861   sons of ****, why couldn`t they put them on t...   \n",
       "\n",
       "                         selected_text sentiment  \n",
       "0  i`d have responded, if i were going   neutral  \n",
       "1                             sooo sad  negative  \n",
       "2                          bullying me  negative  \n",
       "3                       leave me alone  negative  \n",
       "4                        sons of ****,  negative  "
      ]
     },
     "execution_count": 4,
     "metadata": {},
     "output_type": "execute_result"
    }
   ],
   "source": [
    "# Transformando todos os textos em caracteres minusculos\n",
    "tweets_df.text = tweets_df.text.str.lower()\n",
    "tweets_df.selected_text = tweets_df.selected_text.str.lower()\n",
    "tweets_df.head()"
   ]
  },
  {
   "cell_type": "code",
   "execution_count": 5,
   "id": "fe381883",
   "metadata": {
    "execution": {
     "iopub.execute_input": "2023-01-07T23:43:06.690693Z",
     "iopub.status.busy": "2023-01-07T23:43:06.690269Z",
     "iopub.status.idle": "2023-01-07T23:43:06.724420Z",
     "shell.execute_reply": "2023-01-07T23:43:06.722659Z"
    },
    "papermill": {
     "duration": 0.044308,
     "end_time": "2023-01-07T23:43:06.727565",
     "exception": false,
     "start_time": "2023-01-07T23:43:06.683257",
     "status": "completed"
    },
    "tags": []
   },
   "outputs": [
    {
     "data": {
      "text/html": [
       "<div>\n",
       "<style scoped>\n",
       "    .dataframe tbody tr th:only-of-type {\n",
       "        vertical-align: middle;\n",
       "    }\n",
       "\n",
       "    .dataframe tbody tr th {\n",
       "        vertical-align: top;\n",
       "    }\n",
       "\n",
       "    .dataframe thead th {\n",
       "        text-align: right;\n",
       "    }\n",
       "</style>\n",
       "<table border=\"1\" class=\"dataframe\">\n",
       "  <thead>\n",
       "    <tr style=\"text-align: right;\">\n",
       "      <th></th>\n",
       "      <th>textID</th>\n",
       "      <th>text</th>\n",
       "      <th>selected_text</th>\n",
       "      <th>sentiment</th>\n",
       "    </tr>\n",
       "  </thead>\n",
       "  <tbody>\n",
       "    <tr>\n",
       "      <th>314</th>\n",
       "      <td>fdb77c3752</td>\n",
       "      <td>NaN</td>\n",
       "      <td>NaN</td>\n",
       "      <td>neutral</td>\n",
       "    </tr>\n",
       "  </tbody>\n",
       "</table>\n",
       "</div>"
      ],
      "text/plain": [
       "         textID text selected_text sentiment\n",
       "314  fdb77c3752  NaN           NaN   neutral"
      ]
     },
     "metadata": {},
     "output_type": "display_data"
    },
    {
     "name": "stdout",
     "output_type": "stream",
     "text": [
      "<class 'pandas.core.frame.DataFrame'>\n",
      "Int64Index: 27480 entries, 0 to 27480\n",
      "Data columns (total 4 columns):\n",
      " #   Column         Non-Null Count  Dtype \n",
      "---  ------         --------------  ----- \n",
      " 0   textID         27480 non-null  object\n",
      " 1   text           27480 non-null  object\n",
      " 2   selected_text  27480 non-null  object\n",
      " 3   sentiment      27480 non-null  object\n",
      "dtypes: object(4)\n",
      "memory usage: 1.0+ MB\n"
     ]
    }
   ],
   "source": [
    "# Retirada do valor nulo para o texto\n",
    "display(tweets_df[tweets_df.text.isnull()])\n",
    "tweets_df.dropna(subset=['text'],inplace=True)\n",
    "tweets_df.info()"
   ]
  },
  {
   "cell_type": "code",
   "execution_count": 6,
   "id": "03a3fc70",
   "metadata": {
    "execution": {
     "iopub.execute_input": "2023-01-07T23:43:06.740922Z",
     "iopub.status.busy": "2023-01-07T23:43:06.740494Z",
     "iopub.status.idle": "2023-01-07T23:43:06.751817Z",
     "shell.execute_reply": "2023-01-07T23:43:06.749977Z"
    },
    "papermill": {
     "duration": 0.021256,
     "end_time": "2023-01-07T23:43:06.754759",
     "exception": false,
     "start_time": "2023-01-07T23:43:06.733503",
     "status": "completed"
    },
    "tags": []
   },
   "outputs": [
    {
     "data": {
      "text/plain": [
       "array([' i`d have responded, if i were going',\n",
       "       ' sooo sad i will miss you here in san diego!!!',\n",
       "       'my boss is bullying me...', ' what interview! leave me alone',\n",
       "       ' sons of ****, why couldn`t they put them on the releases we already bought',\n",
       "       'http://www.dothebouncy.com/smf - some shameless plugging for the best rangers forum on earth',\n",
       "       '2am feedings for the baby are fun when he is all smiles and coos',\n",
       "       'soooo high', ' both of you',\n",
       "       ' journey!? wow... u just became cooler.  hehe... (is that possible!?)',\n",
       "       ' as much as i love to be hopeful, i reckon the chances are minimal =p i`m never gonna get my cake and stuff',\n",
       "       'i really really like the song love story by taylor swift',\n",
       "       'my sharpie is running dangerously low on ink',\n",
       "       'i want to go to music tonight but i lost my voice.',\n",
       "       'test test from the lg env2', 'uh oh, i am sunburned',\n",
       "       ' s`ok, trying to plot alternatives as we speak *sigh*',\n",
       "       'i`ve been sick for the past few days  and thus, my hair looks wierd.  if i didnt have a hat on it would look... http://tinyurl.com/mnf4kw',\n",
       "       'is back home now      gonna miss every one',\n",
       "       'hes just not that into you',\n",
       "       ' oh marly, i`m so sorry!!  i hope you find her soon!! <3 <3',\n",
       "       'playing ghost online is really interesting. the new updates are kirin pet and metamorph for third job.  can`t wait to have a dragon pet',\n",
       "       'is cleaning the house for her family who is comming later today..',\n",
       "       'gotta restart my computer .. i thought win7 was supposed to put an end to the constant rebootiness',\n",
       "       'see wat i mean bout foll0w friidays... it`s called lose f0llowers friday... smh'],\n",
       "      dtype=object)"
      ]
     },
     "execution_count": 6,
     "metadata": {},
     "output_type": "execute_result"
    }
   ],
   "source": [
    "# Analisando alguns textos\n",
    "tweets_df.text.values[:25]"
   ]
  },
  {
   "cell_type": "markdown",
   "id": "a6900cf3",
   "metadata": {
    "papermill": {
     "duration": 0.005749,
     "end_time": "2023-01-07T23:43:06.766619",
     "exception": false,
     "start_time": "2023-01-07T23:43:06.760870",
     "status": "completed"
    },
    "tags": []
   },
   "source": [
    "* Retirar espaços exagerados\n",
    "* Retirar pontuação e \"stop words\" como: I, the e etc ( Não comprometem o sentido da frase se eliminá-las)\n",
    "* Retirar simbologia de emoticos como: =p , <3 e etc\n",
    "* Retirar hyperlinks\n",
    "* Retirar asteriscos de palavras \"censuradas\""
   ]
  },
  {
   "cell_type": "code",
   "execution_count": 7,
   "id": "693845c2",
   "metadata": {
    "execution": {
     "iopub.execute_input": "2023-01-07T23:43:06.781175Z",
     "iopub.status.busy": "2023-01-07T23:43:06.780667Z",
     "iopub.status.idle": "2023-01-07T23:43:07.048066Z",
     "shell.execute_reply": "2023-01-07T23:43:07.046883Z"
    },
    "papermill": {
     "duration": 0.278307,
     "end_time": "2023-01-07T23:43:07.050889",
     "exception": false,
     "start_time": "2023-01-07T23:43:06.772582",
     "status": "completed"
    },
    "tags": []
   },
   "outputs": [],
   "source": [
    "# FAZER O MEU, NÃO O COPY PASTE E AJEITAR PQ TA ESTRANHO\n",
    "TROCAR_POR_ESPACO = re.compile('[/(){}\\[\\]\\|@,;]')\n",
    "REMOVER = re.compile('[^0-9a-z #+_]')\n",
    "STOPWORDS = set(stopwords.words('english'))\n",
    "\n",
    "def clean_text(text):\n",
    "    text = re.sub('(http)\\S*', '', text) # Retirando os hiperlinks\n",
    "    text = REMOVER.sub('', text) \n",
    "    text = TROCAR_POR_ESPACO.sub(' ', text)\n",
    "    text = re.sub('[0-9]', '', text)\n",
    "    text = ' '.join(word for word in text.split() if word not in STOPWORDS)\n",
    "    return text\n",
    "\n",
    "tweets_df[\"clean_txt\"] = tweets_df.text.apply(lambda t: clean_text(t))"
   ]
  },
  {
   "cell_type": "code",
   "execution_count": 8,
   "id": "f5df6b80",
   "metadata": {
    "execution": {
     "iopub.execute_input": "2023-01-07T23:43:07.066311Z",
     "iopub.status.busy": "2023-01-07T23:43:07.065875Z",
     "iopub.status.idle": "2023-01-07T23:43:07.104457Z",
     "shell.execute_reply": "2023-01-07T23:43:07.103269Z"
    },
    "papermill": {
     "duration": 0.04844,
     "end_time": "2023-01-07T23:43:07.107020",
     "exception": false,
     "start_time": "2023-01-07T23:43:07.058580",
     "status": "completed"
    },
    "tags": []
   },
   "outputs": [
    {
     "data": {
      "text/html": [
       "<div>\n",
       "<style scoped>\n",
       "    .dataframe tbody tr th:only-of-type {\n",
       "        vertical-align: middle;\n",
       "    }\n",
       "\n",
       "    .dataframe tbody tr th {\n",
       "        vertical-align: top;\n",
       "    }\n",
       "\n",
       "    .dataframe thead th {\n",
       "        text-align: right;\n",
       "    }\n",
       "</style>\n",
       "<table border=\"1\" class=\"dataframe\">\n",
       "  <thead>\n",
       "    <tr style=\"text-align: right;\">\n",
       "      <th></th>\n",
       "      <th>textID</th>\n",
       "      <th>text</th>\n",
       "      <th>selected_text</th>\n",
       "      <th>sentiment</th>\n",
       "      <th>clean_txt</th>\n",
       "    </tr>\n",
       "  </thead>\n",
       "  <tbody>\n",
       "    <tr>\n",
       "      <th>0</th>\n",
       "      <td>cb774db0d1</td>\n",
       "      <td>i`d have responded, if i were going</td>\n",
       "      <td>i`d have responded, if i were going</td>\n",
       "      <td>neutral</td>\n",
       "      <td>id responded going</td>\n",
       "    </tr>\n",
       "    <tr>\n",
       "      <th>1</th>\n",
       "      <td>549e992a42</td>\n",
       "      <td>sooo sad i will miss you here in san diego!!!</td>\n",
       "      <td>sooo sad</td>\n",
       "      <td>negative</td>\n",
       "      <td>sooo sad miss san diego</td>\n",
       "    </tr>\n",
       "    <tr>\n",
       "      <th>2</th>\n",
       "      <td>088c60f138</td>\n",
       "      <td>my boss is bullying me...</td>\n",
       "      <td>bullying me</td>\n",
       "      <td>negative</td>\n",
       "      <td>boss bullying</td>\n",
       "    </tr>\n",
       "    <tr>\n",
       "      <th>3</th>\n",
       "      <td>9642c003ef</td>\n",
       "      <td>what interview! leave me alone</td>\n",
       "      <td>leave me alone</td>\n",
       "      <td>negative</td>\n",
       "      <td>interview leave alone</td>\n",
       "    </tr>\n",
       "    <tr>\n",
       "      <th>4</th>\n",
       "      <td>358bd9e861</td>\n",
       "      <td>sons of ****, why couldn`t they put them on t...</td>\n",
       "      <td>sons of ****,</td>\n",
       "      <td>negative</td>\n",
       "      <td>sons couldnt put releases already bought</td>\n",
       "    </tr>\n",
       "    <tr>\n",
       "      <th>...</th>\n",
       "      <td>...</td>\n",
       "      <td>...</td>\n",
       "      <td>...</td>\n",
       "      <td>...</td>\n",
       "      <td>...</td>\n",
       "    </tr>\n",
       "    <tr>\n",
       "      <th>27476</th>\n",
       "      <td>4eac33d1c0</td>\n",
       "      <td>wish we could come see u on denver  husband l...</td>\n",
       "      <td>d lost</td>\n",
       "      <td>negative</td>\n",
       "      <td>wish could come see u denver husband lost job ...</td>\n",
       "    </tr>\n",
       "    <tr>\n",
       "      <th>27477</th>\n",
       "      <td>4f4c4fc327</td>\n",
       "      <td>i`ve wondered about rake to.  the client has ...</td>\n",
       "      <td>, don`t force</td>\n",
       "      <td>negative</td>\n",
       "      <td>ive wondered rake client made clear net dont f...</td>\n",
       "    </tr>\n",
       "    <tr>\n",
       "      <th>27478</th>\n",
       "      <td>f67aae2310</td>\n",
       "      <td>yay good for both of you. enjoy the break - y...</td>\n",
       "      <td>yay good for both of you.</td>\n",
       "      <td>positive</td>\n",
       "      <td>yay good enjoy break probably need hectic week...</td>\n",
       "    </tr>\n",
       "    <tr>\n",
       "      <th>27479</th>\n",
       "      <td>ed167662a5</td>\n",
       "      <td>but it was worth it  ****.</td>\n",
       "      <td>but it was worth it  ****.</td>\n",
       "      <td>positive</td>\n",
       "      <td>worth</td>\n",
       "    </tr>\n",
       "    <tr>\n",
       "      <th>27480</th>\n",
       "      <td>6f7127d9d7</td>\n",
       "      <td>all this flirting going on - the atg smiles...</td>\n",
       "      <td>all this flirting going on - the atg smiles. y...</td>\n",
       "      <td>neutral</td>\n",
       "      <td>flirting going atg smiles yay hugs</td>\n",
       "    </tr>\n",
       "  </tbody>\n",
       "</table>\n",
       "<p>27418 rows × 5 columns</p>\n",
       "</div>"
      ],
      "text/plain": [
       "           textID                                               text  \\\n",
       "0      cb774db0d1                i`d have responded, if i were going   \n",
       "1      549e992a42      sooo sad i will miss you here in san diego!!!   \n",
       "2      088c60f138                          my boss is bullying me...   \n",
       "3      9642c003ef                     what interview! leave me alone   \n",
       "4      358bd9e861   sons of ****, why couldn`t they put them on t...   \n",
       "...           ...                                                ...   \n",
       "27476  4eac33d1c0   wish we could come see u on denver  husband l...   \n",
       "27477  4f4c4fc327   i`ve wondered about rake to.  the client has ...   \n",
       "27478  f67aae2310   yay good for both of you. enjoy the break - y...   \n",
       "27479  ed167662a5                         but it was worth it  ****.   \n",
       "27480  6f7127d9d7     all this flirting going on - the atg smiles...   \n",
       "\n",
       "                                           selected_text sentiment  \\\n",
       "0                    i`d have responded, if i were going   neutral   \n",
       "1                                               sooo sad  negative   \n",
       "2                                            bullying me  negative   \n",
       "3                                         leave me alone  negative   \n",
       "4                                          sons of ****,  negative   \n",
       "...                                                  ...       ...   \n",
       "27476                                             d lost  negative   \n",
       "27477                                      , don`t force  negative   \n",
       "27478                          yay good for both of you.  positive   \n",
       "27479                         but it was worth it  ****.  positive   \n",
       "27480  all this flirting going on - the atg smiles. y...   neutral   \n",
       "\n",
       "                                               clean_txt  \n",
       "0                                     id responded going  \n",
       "1                                sooo sad miss san diego  \n",
       "2                                          boss bullying  \n",
       "3                                  interview leave alone  \n",
       "4               sons couldnt put releases already bought  \n",
       "...                                                  ...  \n",
       "27476  wish could come see u denver husband lost job ...  \n",
       "27477  ive wondered rake client made clear net dont f...  \n",
       "27478  yay good enjoy break probably need hectic week...  \n",
       "27479                                              worth  \n",
       "27480                 flirting going atg smiles yay hugs  \n",
       "\n",
       "[27418 rows x 5 columns]"
      ]
     },
     "execution_count": 8,
     "metadata": {},
     "output_type": "execute_result"
    }
   ],
   "source": [
    "# Limpeza dos tweets processados que ficaram sem texto\n",
    "tweets_df = tweets_df[tweets_df.clean_txt.str.len() != 0]\n",
    "tweets_df"
   ]
  },
  {
   "cell_type": "markdown",
   "id": "7eecce41",
   "metadata": {
    "papermill": {
     "duration": 0.005894,
     "end_time": "2023-01-07T23:43:07.119182",
     "exception": false,
     "start_time": "2023-01-07T23:43:07.113288",
     "status": "completed"
    },
    "tags": []
   },
   "source": [
    "# 3-) EDA"
   ]
  },
  {
   "cell_type": "code",
   "execution_count": 9,
   "id": "185f1c7a",
   "metadata": {
    "execution": {
     "iopub.execute_input": "2023-01-07T23:43:07.133782Z",
     "iopub.status.busy": "2023-01-07T23:43:07.133317Z",
     "iopub.status.idle": "2023-01-07T23:43:08.105537Z",
     "shell.execute_reply": "2023-01-07T23:43:08.104256Z"
    },
    "papermill": {
     "duration": 0.983109,
     "end_time": "2023-01-07T23:43:08.108406",
     "exception": false,
     "start_time": "2023-01-07T23:43:07.125297",
     "status": "completed"
    },
    "tags": []
   },
   "outputs": [
    {
     "data": {
      "image/png": "[encoded data removed]",
      "text/plain": [
       "<Figure size 1152x1296 with 2 Axes>"
      ]
     },
     "metadata": {
      "needs_background": "light"
     },
     "output_type": "display_data"
    },
    {
     "data": {
      "text/plain": [
       "count    27418.000000\n",
       "mean         7.205267\n",
       "std          3.854073\n",
       "min          1.000000\n",
       "25%          4.000000\n",
       "50%          7.000000\n",
       "75%         10.000000\n",
       "max         23.000000\n",
       "Name: clean_txt, dtype: float64"
      ]
     },
     "metadata": {},
     "output_type": "display_data"
    }
   ],
   "source": [
    "# ANÁLISE DOS TAMANHOS DOS TWEETS DO DATASET\n",
    "size_tweets = tweets_df.clean_txt.apply(lambda t: len(str(t).split()))\n",
    "fig,ax = plt.subplots(2,1,figsize=(16,18))\n",
    "\n",
    "# Histograma\n",
    "sns.histplot(data=size_tweets,common_bins=False,discrete=1,kde=True,ax=ax[0])\n",
    "ax[0].set_xticks(np.arange(0,34,1))\n",
    "ax[0].set_ylabel(\"Frequência\",fontsize=22)\n",
    "ax[0].set_xlabel(\"Quantidade de palavras no tweet\",fontsize=22)\n",
    "ax[0].set_title(\"Histograma da quantidade de palavras nos tweets\",fontsize=30)\n",
    "\n",
    "# Boxplot\n",
    "sns.boxplot(data=size_tweets,ax=ax[1])\n",
    "ax[1].set_ylabel(\"Quantidade de palavras no tweet\",fontsize=22)\n",
    "ax[1].set_title(\"Boxplot da quantidade de palavras nos tweets\",fontsize=30)\n",
    "plt.show()\n",
    "\n",
    "display(size_tweets.describe())"
   ]
  },
  {
   "cell_type": "markdown",
   "id": "c75af6d5",
   "metadata": {
    "papermill": {
     "duration": 0.006907,
     "end_time": "2023-01-07T23:43:08.122741",
     "exception": false,
     "start_time": "2023-01-07T23:43:08.115834",
     "status": "completed"
    },
    "tags": []
   },
   "source": [
    "Insights: No dataset processado\n",
    "* A maioria dos tweets estão na faixa de 4-6 palavras\n",
    "* No dataset processado não se estendem para mais de 33 palavras, baixa dispersão, tendo em vista q o Twitter permite ate 240 caracteres.\n",
    "* Alguns poucos outliers ( Numa primeira análise não necessita retirada).\n",
    "* Assimetria para tweets mais curtos."
   ]
  },
  {
   "cell_type": "code",
   "execution_count": 10,
   "id": "cfaf97b2",
   "metadata": {
    "execution": {
     "iopub.execute_input": "2023-01-07T23:43:08.141010Z",
     "iopub.status.busy": "2023-01-07T23:43:08.140616Z",
     "iopub.status.idle": "2023-01-07T23:43:08.676080Z",
     "shell.execute_reply": "2023-01-07T23:43:08.674652Z"
    },
    "papermill": {
     "duration": 0.548155,
     "end_time": "2023-01-07T23:43:08.678786",
     "exception": false,
     "start_time": "2023-01-07T23:43:08.130631",
     "status": "completed"
    },
    "tags": []
   },
   "outputs": [
    {
     "data": {
      "image/png": "[encoded data removed]",
      "text/plain": [
       "<Figure size 1152x648 with 1 Axes>"
      ]
     },
     "metadata": {
      "needs_background": "light"
     },
     "output_type": "display_data"
    }
   ],
   "source": [
    "# ANÁLISE DAS PALAVRAS MAIS RECORRENTES\n",
    "\n",
    "caracteres = tweets_df.text.apply(lambda t: str(t).split())\n",
    "caracteres = caracteres.to_frame().explode('text').reset_index()\n",
    "# Top10 palavras\n",
    "top_caracteres = caracteres['text'].value_counts().sort_values(ascending=False).head(10)\n",
    "\n",
    "fig,ax = plt.subplots(1,1,figsize=(16,9))\n",
    "sns.barplot(x = top_caracteres.index, y =top_caracteres.values,ax=ax)\n",
    "ax.set_xticklabels(top_caracteres.index,fontsize=20)\n",
    "ax.set_ylabel(\"Frequência\",fontsize=16)\n",
    "ax.set_title(\"Top10 palavras mais recorrentes\",fontsize=30)\n",
    "plt.show()\n"
   ]
  },
  {
   "cell_type": "markdown",
   "id": "cacad02e",
   "metadata": {
    "papermill": {
     "duration": 0.00801,
     "end_time": "2023-01-07T23:43:08.694766",
     "exception": false,
     "start_time": "2023-01-07T23:43:08.686756",
     "status": "completed"
    },
    "tags": []
   },
   "source": [
    "Insights: A palavras mais recorrentes são - de modo geral - artigos,pronomes e preposições da lingua inglesa. Percebe-se que são vocabulos bastante simples, não excedendo 3 letras."
   ]
  },
  {
   "cell_type": "code",
   "execution_count": 11,
   "id": "dd926e61",
   "metadata": {
    "execution": {
     "iopub.execute_input": "2023-01-07T23:43:08.715769Z",
     "iopub.status.busy": "2023-01-07T23:43:08.715326Z",
     "iopub.status.idle": "2023-01-07T23:43:08.944799Z",
     "shell.execute_reply": "2023-01-07T23:43:08.943536Z"
    },
    "papermill": {
     "duration": 0.242715,
     "end_time": "2023-01-07T23:43:08.947309",
     "exception": false,
     "start_time": "2023-01-07T23:43:08.704594",
     "status": "completed"
    },
    "tags": []
   },
   "outputs": [
    {
     "data": {
      "image/png": "[encoded data removed]",
      "text/plain": [
       "<Figure size 1152x648 with 1 Axes>"
      ]
     },
     "metadata": {
      "needs_background": "light"
     },
     "output_type": "display_data"
    }
   ],
   "source": [
    "# Balanceamento das classe target\n",
    "qtd_class = tweets_df.sentiment.value_counts()\n",
    "\n",
    "fig,ax = plt.subplots(1,1,figsize=(16,9))\n",
    "sns.barplot(x = qtd_class.index, y =qtd_class.values,ax=ax)\n",
    "ax.set_ylabel(\"Frequência\",fontsize=16)\n",
    "ax.set_xticklabels(qtd_class.index,fontsize=20)\n",
    "ax.set_title(\"Frequência de cada valor da variável target\",fontsize=30)\n",
    "plt.show()"
   ]
  },
  {
   "cell_type": "markdown",
   "id": "13a5cad8",
   "metadata": {
    "papermill": {
     "duration": 0.007818,
     "end_time": "2023-01-07T23:43:08.963431",
     "exception": false,
     "start_time": "2023-01-07T23:43:08.955613",
     "status": "completed"
    },
    "tags": []
   },
   "source": [
    "Insight: Bom balanceamento das classes."
   ]
  },
  {
   "cell_type": "markdown",
   "id": "f6f10ca9",
   "metadata": {
    "papermill": {
     "duration": 0.007771,
     "end_time": "2023-01-07T23:43:08.979207",
     "exception": false,
     "start_time": "2023-01-07T23:43:08.971436",
     "status": "completed"
    },
    "tags": []
   },
   "source": [
    "# 3-) Feature Engineering"
   ]
  }
 ],
 "metadata": {
  "kernelspec": {
   "display_name": "Python 3",
   "language": "python",
   "name": "python3"
  },
  "language_info": {
   "codemirror_mode": {
    "name": "ipython",
    "version": 3
   },
   "file_extension": ".py",
   "mimetype": "text/x-python",
   "name": "python",
   "nbconvert_exporter": "python",
   "pygments_lexer": "ipython3",
   "version": "3.7.12"
  },
  "papermill": {
   "default_parameters": {},
   "duration": 15.801932,
   "end_time": "2023-01-07T23:43:09.911311",
   "environment_variables": {},
   "exception": null,
   "input_path": "__notebook__.ipynb",
   "output_path": "__notebook__.ipynb",
   "parameters": {},
   "start_time": "2023-01-07T23:42:54.109379",
   "version": "2.3.4"
  }
 },
 "nbformat": 4,
 "nbformat_minor": 5
}
